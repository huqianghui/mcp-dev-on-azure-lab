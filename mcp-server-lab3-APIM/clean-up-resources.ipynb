{
 "cells": [
  {
   "cell_type": "markdown",
   "metadata": {},
   "source": [
    "### 🗑️ Clean up resources\n",
    "\n",
    "When you're finished with the lab, you should remove all your deployed resources from Azure to avoid extra charges and keep your Azure subscription uncluttered."
   ]
  },
  {
   "cell_type": "code",
   "execution_count": 1,
   "metadata": {},
   "outputs": [
    {
     "name": "stdout",
     "output_type": "stream",
     "text": [
      "👉🏽 \u001b[1;34m🧹 Cleaning up resource group 'lab-realtime-mcp-agents'...\u001b[0m\n",
      "⚙️ \u001b[1;34mRunning: az deployment group show --name realtime-mcp-agents -g lab-realtime-mcp-agents -o json \u001b[0m\n",
      "✅ \u001b[1;32mDeployment retrieved\u001b[0m ⌚ 19:08:45.872872 [0m:2s]\n",
      "👉🏽 \u001b[1;34mDeployment provisioning state: Succeeded\u001b[0m\n",
      "⚙️ \u001b[1;34mRunning:  az cognitiveservices account list -g lab-realtime-mcp-agents \u001b[0m\n",
      "✅ \u001b[1;32mListed CognitiveService accounts\u001b[0m ⌚ 19:08:48.267477 [0m:2s]\n",
      "👉🏽 \u001b[1;34mDeleting and purging Cognitive Service Account 'openai1-3gzdudqnzlfqs' in resource group 'lab-realtime-mcp-agents'...\u001b[0m\n",
      "⚙️ \u001b[1;34mRunning: az cognitiveservices account delete -g lab-realtime-mcp-agents -n openai1-3gzdudqnzlfqs \u001b[0m\n",
      "✅ \u001b[1;32mCognitive Services 'openai1-3gzdudqnzlfqs' deleted\u001b[0m ⌚ 19:08:55.151248 [0m:6s]\n",
      "⚙️ \u001b[1;34mRunning: az cognitiveservices account purge -g lab-realtime-mcp-agents -n openai1-3gzdudqnzlfqs -l \"swedencentral\" \u001b[0m\n",
      "✅ \u001b[1;32mCognitive Services 'openai1-3gzdudqnzlfqs' purged\u001b[0m ⌚ 19:08:58.202726 [0m:3s]\n",
      "⚙️ \u001b[1;34mRunning:  az apim list -g lab-realtime-mcp-agents \u001b[0m\n",
      "✅ \u001b[1;32mListed APIM resources\u001b[0m ⌚ 19:09:00.321838 [0m:2s]\n",
      "👉🏽 \u001b[1;34mDeleting and purging API Management 'apim-3gzdudqnzlfqs' in resource group 'lab-realtime-mcp-agents'...\u001b[0m\n",
      "⚙️ \u001b[1;34mRunning: az apim delete -n apim-3gzdudqnzlfqs -g lab-realtime-mcp-agents -y \u001b[0m\n",
      "✅ \u001b[1;32mAPI Management 'apim-3gzdudqnzlfqs' deleted\u001b[0m ⌚ 19:10:08.612480 [1m:8s]\n",
      "⚙️ \u001b[1;34mRunning: az apim deletedservice purge --service-name apim-3gzdudqnzlfqs --location \"UK South\" \u001b[0m\n",
      "✅ \u001b[1;32mAPI Management 'apim-3gzdudqnzlfqs' purged\u001b[0m ⌚ 19:11:40.161210 [1m:31s]\n",
      "⚙️ \u001b[1;34mRunning:  az keyvault list -g lab-realtime-mcp-agents \u001b[0m\n",
      "✅ \u001b[1;32mListed Key Vault resources\u001b[0m ⌚ 19:11:43.703733 [0m:3s]\n",
      "👉🏽 \u001b[1;32m🧹 Deleting resource group 'lab-realtime-mcp-agents'...\u001b[0m ⌚ 19:11:43.703910 \n",
      "⚙️ \u001b[1;34mRunning: az group delete --name lab-realtime-mcp-agents -y \u001b[0m\n",
      "✅ \u001b[1;32mResource group 'lab-realtime-mcp-agents' deleted\u001b[0m ⌚ 19:21:04.479546 [9m:20s]\n",
      "👉🏽 \u001b[1;32m🧹 Cleanup completed.\u001b[0m ⌚ 19:21:04.480231 \n"
     ]
    }
   ],
   "source": [
    "import os, sys\n",
    "sys.path.insert(1, '../../shared')  # add the shared directory to the Python path\n",
    "import utils\n",
    "\n",
    "deployment_name = os.path.basename(os.path.dirname(globals()['__vsc_ipynb_file__']))\n",
    "utils.cleanup_resources(deployment_name)"
   ]
  }
 ],
 "metadata": {
  "kernelspec": {
   "display_name": ".venv",
   "language": "python",
   "name": "python3"
  },
  "language_info": {
   "codemirror_mode": {
    "name": "ipython",
    "version": 3
   },
   "file_extension": ".py",
   "mimetype": "text/x-python",
   "name": "python",
   "nbconvert_exporter": "python",
   "pygments_lexer": "ipython3",
   "version": "3.12.10"
  }
 },
 "nbformat": 4,
 "nbformat_minor": 2
}
